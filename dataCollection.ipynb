{
 "cells": [
  {
   "cell_type": "code",
   "execution_count": 4,
   "id": "71c5b78b-1f1a-4465-b8a0-989c28c25450",
   "metadata": {},
   "outputs": [],
   "source": [
    "import fastf1 \n",
    "import numpy as np\n",
    "import csv\n",
    "fastf1.Cache.enable_cache('C:\\\\Users\\\\Helen DuPree\\\\Desktop\\\\cache') #change to your own cache\n",
    "directory = \"fastf1_data/\""
   ]
  },
  {
   "cell_type": "code",
   "execution_count": 5,
   "id": "93f392b4-f6fe-4a98-ba92-e0639718c341",
   "metadata": {},
   "outputs": [],
   "source": [
    "driverCodes = [\"VER\", \"HAM\", \"BOT\", \"RIC\", \"VET\", \"RAI\", \"GIO\", \"HUL\", \"HAR\", \"GAS\", \"SAI\", \"OCO\", \"PER\", \"MAG\", \"GRO\", \"ALO\", \"STR\", \"LEC\", \"SIR\",\"VAN\"] \n",
    "races = [] #TODO\n",
    "attrib = [\"Team\", \"Driver\", \"LapNumber\",\"Compound\", \"Stint\", \"LapTime\", \"TyreLife\", \"FreshTyre\", \"TrackStatus\", \"IsAccurate\"]"
   ]
  },
  {
   "cell_type": "code",
   "execution_count": 6,
   "id": "d55ca41c-34d3-47a7-8967-39129e7f0082",
   "metadata": {},
   "outputs": [
    {
     "name": "stderr",
     "output_type": "stream",
     "text": [
      "core           INFO \tLoading data for Italian Grand Prix - Race [v2.3.0]\n",
      "api            INFO \tUsing cached data for driver_info\n",
      "api            INFO \tUsing cached data for timing_data\n",
      "api            INFO \tUsing cached data for timing_app_data\n",
      "core           INFO \tProcessing timing data...\n",
      "api            INFO \tUsing cached data for session_status_data\n",
      "api            INFO \tUsing cached data for track_status_data\n",
      "api            INFO \tUsing cached data for car_data\n",
      "api            INFO \tUsing cached data for position_data\n",
      "api            INFO \tUsing cached data for weather_data\n",
      "api            INFO \tUsing cached data for race_control_messages\n",
      "core           INFO \tFinished loading data for 20 drivers: ['44', '7', '77', '5', '33', '31', '11', '55', '18', '35', '16', '2', '27', '10', '9', '20', '3', '14', '28', '8']\n"
     ]
    },
    {
     "ename": "FileNotFoundError",
     "evalue": "[Errno 2] No such file or directory: 'fastf1_data/monza_VER_2018.csv'",
     "output_type": "error",
     "traceback": [
      "\u001b[1;31m---------------------------------------------------------------------------\u001b[0m",
      "\u001b[1;31mFileNotFoundError\u001b[0m                         Traceback (most recent call last)",
      "Cell \u001b[1;32mIn[6], line 19\u001b[0m\n\u001b[0;32m     17\u001b[0m     driverString \u001b[39m+\u001b[39m\u001b[39m=\u001b[39m \u001b[39mstr\u001b[39m(driverFile[i][\u001b[39mlen\u001b[39m(attrib)\u001b[39m-\u001b[39m\u001b[39m1\u001b[39m])\n\u001b[0;32m     18\u001b[0m     driverFix\u001b[39m.\u001b[39mappend([driverString])\n\u001b[1;32m---> 19\u001b[0m \u001b[39mwith\u001b[39;00m \u001b[39mopen\u001b[39;49m(directory\u001b[39m+\u001b[39;49m\u001b[39m'\u001b[39;49m\u001b[39mmonza_\u001b[39;49m\u001b[39m'\u001b[39;49m\u001b[39m+\u001b[39;49m\u001b[39mstr\u001b[39;49m(driver)\u001b[39m+\u001b[39;49m\u001b[39m'\u001b[39;49m\u001b[39m_2018.csv\u001b[39;49m\u001b[39m'\u001b[39;49m, \u001b[39m'\u001b[39;49m\u001b[39mw\u001b[39;49m\u001b[39m'\u001b[39;49m, newline\u001b[39m=\u001b[39;49m\u001b[39m'\u001b[39;49m\u001b[39m'\u001b[39;49m) \u001b[39mas\u001b[39;00m f:\n\u001b[0;32m     20\u001b[0m     mywriter \u001b[39m=\u001b[39m csv\u001b[39m.\u001b[39mwriter(f, delimiter\u001b[39m=\u001b[39m\u001b[39m'\u001b[39m\u001b[39m,\u001b[39m\u001b[39m'\u001b[39m)\n\u001b[0;32m     21\u001b[0m     mywriter\u001b[39m.\u001b[39mwriterow([\u001b[39m\"\u001b[39m\u001b[39mTeam, Driver, LapNumber,Compound, Stint, LapTime, TyreLife, FreshTyre, TrackStatus, IsAccurate\u001b[39m\u001b[39m\"\u001b[39m])\n",
      "File \u001b[1;32m~\\AppData\\Local\\Packages\\PythonSoftwareFoundation.Python.3.10_qbz5n2kfra8p0\\LocalCache\\local-packages\\Python310\\site-packages\\IPython\\core\\interactiveshell.py:282\u001b[0m, in \u001b[0;36m_modified_open\u001b[1;34m(file, *args, **kwargs)\u001b[0m\n\u001b[0;32m    275\u001b[0m \u001b[39mif\u001b[39;00m file \u001b[39min\u001b[39;00m {\u001b[39m0\u001b[39m, \u001b[39m1\u001b[39m, \u001b[39m2\u001b[39m}:\n\u001b[0;32m    276\u001b[0m     \u001b[39mraise\u001b[39;00m \u001b[39mValueError\u001b[39;00m(\n\u001b[0;32m    277\u001b[0m         \u001b[39mf\u001b[39m\u001b[39m\"\u001b[39m\u001b[39mIPython won\u001b[39m\u001b[39m'\u001b[39m\u001b[39mt let you open fd=\u001b[39m\u001b[39m{\u001b[39;00mfile\u001b[39m}\u001b[39;00m\u001b[39m by default \u001b[39m\u001b[39m\"\u001b[39m\n\u001b[0;32m    278\u001b[0m         \u001b[39m\"\u001b[39m\u001b[39mas it is likely to crash IPython. If you know what you are doing, \u001b[39m\u001b[39m\"\u001b[39m\n\u001b[0;32m    279\u001b[0m         \u001b[39m\"\u001b[39m\u001b[39myou can use builtins\u001b[39m\u001b[39m'\u001b[39m\u001b[39m open.\u001b[39m\u001b[39m\"\u001b[39m\n\u001b[0;32m    280\u001b[0m     )\n\u001b[1;32m--> 282\u001b[0m \u001b[39mreturn\u001b[39;00m io_open(file, \u001b[39m*\u001b[39margs, \u001b[39m*\u001b[39m\u001b[39m*\u001b[39mkwargs)\n",
      "\u001b[1;31mFileNotFoundError\u001b[0m: [Errno 2] No such file or directory: 'fastf1_data/monza_VER_2018.csv'"
     ]
    }
   ],
   "source": [
    "#session\n",
    "session = fastf1.get_session(2018, 'Monza', 'R')\n",
    "session.load(telemetry=True,laps=True)\n",
    "for driver in driverCodes:\n",
    "    driverFile = []\n",
    "    laps = session.laps.pick_driver(driver)\n",
    "    for att in attrib:\n",
    "        driverFile.append(laps[att]) \n",
    "    driverFile = np.swapaxes(np.array(driverFile),0,1)\n",
    "    \n",
    "    #lord help you if you need to debug this\n",
    "    driverFix = []\n",
    "    for i in range(1, len(driverFile)):\n",
    "        driverString = \"\"\n",
    "        for j in range(len(driverFile[i])-1):\n",
    "            driverString += str(driverFile[i][j]) +\",\"\n",
    "        driverString += str(driverFile[i][len(attrib)-1])\n",
    "        driverFix.append([driverString])\n",
    "    with open(directory+'monza_'+str(driver)+'_2018.csv', 'w', newline='') as f:\n",
    "        mywriter = csv.writer(f, delimiter=',')\n",
    "        mywriter.writerow([\"Team, Driver, LapNumber,Compound, Stint, LapTime, TyreLife, FreshTyre, TrackStatus, IsAccurate\"])\n",
    "        mywriter.writerows(driverFix)  "
   ]
  },
  {
   "cell_type": "code",
   "execution_count": null,
   "id": "7c2fdce9-ee9f-466f-a4ef-71d09df046f8",
   "metadata": {},
   "outputs": [],
   "source": [
    " "
   ]
  }
 ],
 "metadata": {
  "kernelspec": {
   "display_name": "Python 3.10.8 64-bit (microsoft store)",
   "language": "python",
   "name": "python3"
  },
  "language_info": {
   "codemirror_mode": {
    "name": "ipython",
    "version": 3
   },
   "file_extension": ".py",
   "mimetype": "text/x-python",
   "name": "python",
   "nbconvert_exporter": "python",
   "pygments_lexer": "ipython3",
   "version": "3.10.8"
  },
  "vscode": {
   "interpreter": {
    "hash": "a9f1f59101e07bffb7c2ecfaca1a3c7ffe3cd326ee75e914ab1b038684b38c5a"
   }
  }
 },
 "nbformat": 4,
 "nbformat_minor": 5
}
