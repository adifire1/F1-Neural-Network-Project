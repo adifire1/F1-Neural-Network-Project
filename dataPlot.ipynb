from matplotlib import pyplot as plt
import fastf1
import fastf1.plotting

fastf1.plotting.setup_mpl()
for j in range(1,21):
    session = fastf1.get_session(2018, j, 'Race')
    session.load()

#session.load()
fast_magnussen = session.laps.pick_driver('MAG').pick_fastest()
mag_car_data = fast_magnussen.get_car_data()
t = mag_car_data['Time']
vCar = mag_car_data['Speed']

# The rest is just plotting
fig, ax = plt.subplots()
ax.plot(t, vCar, label='Fast')
ax.set_xlabel('Time')
ax.set_ylabel('Speed [Km/h]')
ax.set_title('Magnussen')
ax.legend()
plt.show()
