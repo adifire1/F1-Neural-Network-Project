{
 "cells": [
  {
   "cell_type": "code",
   "execution_count": 8,
   "id": "e2a19097",
   "metadata": {},
   "outputs": [],
   "source": [
    "import torch\n",
    "import torch.nn as nn\n",
    "import pandas as pd\n",
    "import numpy as np\n",
    "from dateutil.parser import parse\n",
    "import torch.nn.functional as F\n",
    "from torch.utils.data import DataLoader, random_split, TensorDataset\n",
    "import matplotlib.pyplot as plt"
   ]
  },
  {
   "cell_type": "code",
   "execution_count": 9,
   "id": "6a806793",
   "metadata": {},
   "outputs": [],
   "source": [
    "###TODO: expand to full data, figure out how to visualize the difference in compounds or just train multiple neural networks on each compound, fix the size error idk why thats happening"
   ]
  },
  {
   "cell_type": "code",
   "execution_count": 47,
   "id": "6d63abe8",
   "metadata": {},
   "outputs": [
    {
     "name": "stdout",
     "output_type": "stream",
     "text": [
      "                    LapTime   Compound  TyreLife  AirTemp  Humidity  Pressure  \\\n",
      "1    0 days 00:01:30.562000  ULTRASOFT       4.0     24.2      36.3     996.9   \n",
      "2    0 days 00:01:30.177000  ULTRASOFT       5.0     23.9      36.5     997.1   \n",
      "3    0 days 00:01:29.610000  ULTRASOFT       6.0     23.9      36.3     997.1   \n",
      "4    0 days 00:01:29.540000  ULTRASOFT       7.0     23.5      36.3     997.2   \n",
      "5    0 days 00:01:30.497000  ULTRASOFT       8.0     23.4      36.5     997.2   \n",
      "..                      ...        ...       ...      ...       ...       ...   \n",
      "932  0 days 00:01:32.210000  SUPERSOFT       3.0     23.8      35.7     997.1   \n",
      "933  0 days 00:01:32.289000  SUPERSOFT       4.0     23.5      36.3     997.2   \n",
      "936  0 days 00:01:34.137000  SUPERSOFT       1.0     24.2      36.3     996.9   \n",
      "937  0 days 00:01:32.573000  SUPERSOFT       2.0     23.9      36.5     997.1   \n",
      "938  0 days 00:01:32.943000  SUPERSOFT       3.0     23.8      35.7     997.1   \n",
      "\n",
      "     Rainfall  TrackTemp  WindDirection  WindSpeed  \n",
      "1       False       38.2            296        3.8  \n",
      "2       False       36.7            289        4.3  \n",
      "3       False       36.8            255        2.9  \n",
      "4       False       36.4            267        2.5  \n",
      "5       False       36.3            283        2.1  \n",
      "..        ...        ...            ...        ...  \n",
      "932     False       36.6            210        2.7  \n",
      "933     False       36.4            267        2.5  \n",
      "936     False       38.2            296        3.8  \n",
      "937     False       36.7            289        4.3  \n",
      "938     False       36.6            210        2.7  \n",
      "\n",
      "[916 rows x 10 columns]\n"
     ]
    }
   ],
   "source": [
    "\n",
    "\n",
    "df = pd.read_csv('F1_4502\\LapAndWeather\\LapWeather_Australian Grand Prix')\n",
    "df = df.drop(['Time','DriverNumber', 'Unnamed: 0', 'LapNumber', 'PitOutTime', 'PitInTime', 'Sector1Time','Sector2Time','Sector3Time','Sector1SessionTime','Sector2SessionTime','Sector3SessionTime','SpeedI1','SpeedI2','SpeedST','IsPersonalBest','FreshTyre','Stint','SpeedFL','LapStartTime','Team','Driver','TrackStatus','IsAccurate'], axis=1)\n",
    "df = df.dropna()\n",
    "print(df)\n",
    "dfOutput = df['LapTime']\n",
    "train_targets = dfOutput.to_numpy()\n",
    "for i in range(len(train_targets)):\n",
    "    train_targets[i] = train_targets[i].replace('0 days ', '')\n",
    "actual_train_targets = []\n",
    "for time in train_targets:\n",
    "    td = parse(time) - parse('00:00:00')\n",
    "    seconds = td.total_seconds()\n",
    "    actual_train_targets.append(seconds)\n",
    "dfLapTime = pd.DataFrame(actual_train_targets)\n",
    "df['LapTime'] = dfLapTime\n",
    "df = df.dropna()\n",
    "cols = ['LapTime']\n",
    "Q1 = df[cols].quantile(0.25)\n",
    "Q3 = df[cols].quantile(0.75)\n",
    "IQR = Q3-Q1\n",
    "df = df[~((df[cols] < (Q1 - 1.5 * IQR)) |(df[cols] > (Q3 + 1.5 * IQR))).any(axis=1)]\n",
    "dfInput = df.drop(['LapTime'], axis=1)\n",
    "dfInput = dfInput.replace({'ULTRASOFT': 0, 'SUPERSOFT': 1, 'SOFT': 2,})\n",
    "train_inputs = dfInput.to_numpy()\n",
    "inputs_array = train_inputs.astype('float64')\n",
    "dfOutput = df['LapTime']\n",
    "\n",
    "targets_array = dfOutput.to_numpy()\n",
    "inputs = torch.Tensor(inputs_array)\n",
    "targets = torch.Tensor(targets_array)\n"
   ]
  },
  {
   "cell_type": "code",
   "execution_count": 20,
   "id": "03e8c443",
   "metadata": {},
   "outputs": [],
   "source": [
    "dataset = TensorDataset(inputs, targets)\n"
   ]
  },
  {
   "cell_type": "code",
   "execution_count": 21,
   "id": "4f1a0694",
   "metadata": {},
   "outputs": [],
   "source": [
    "val_percent = 0.2\n",
    "num_rows = len(dfInput.index)\n",
    "val_size = int(num_rows * val_percent)\n",
    "train_size = num_rows - val_size\n",
    "train_ds, val_ds = random_split(dataset, [train_size, val_size])"
   ]
  },
  {
   "cell_type": "code",
   "execution_count": 22,
   "id": "da61690d",
   "metadata": {},
   "outputs": [],
   "source": [
    "batch_size = 9\n",
    "train_loader = DataLoader(train_ds, batch_size, shuffle = True, num_workers = 0)\n",
    "val_loader = DataLoader(val_ds, batch_size, num_workers = 0)"
   ]
  },
  {
   "cell_type": "code",
   "execution_count": 23,
   "id": "fccaa518",
   "metadata": {},
   "outputs": [],
   "source": [
    "input_size = len(inputs[0])\n",
    "output_size = 1"
   ]
  },
  {
   "cell_type": "code",
   "execution_count": 35,
   "id": "a60896f0",
   "metadata": {},
   "outputs": [],
   "source": [
    "class MultiLinearRegressionModel(nn.Module):\n",
    "    def __init__(self):\n",
    "        super().__init__()\n",
    "        self.layers = nn.Sequential(\n",
    "            nn.Linear(9, 36),\n",
    "            nn.ReLU(),\n",
    "            nn.Linear(36,18),\n",
    "            nn.ReLU(),\n",
    "            nn.Linear(18,1)\n",
    "        )\n",
    "        \n",
    "    def forward(self, xb):\n",
    "        out = self.layers(xb)                       \n",
    "        return out\n",
    "    \n",
    "    def training_step(self, batch):\n",
    "        inputs, targets = batch \n",
    "        # Generate predictions\n",
    "        out = self(inputs)          \n",
    "        # Calcuate loss\n",
    "        loss = F.l1_loss(input = out, target = targets, size_average = None, reduce = None, reduction = 'mean')  \n",
    "        return loss\n",
    "    \n",
    "    def validation_step(self, batch):\n",
    "        inputs, targets = batch\n",
    "        # Generate predictions\n",
    "        out = self(inputs)\n",
    "        # Calculate loss\n",
    "        loss = F.l1_loss(input = out, target = targets, size_average = None, reduce = None, reduction = 'mean')    \n",
    "        return {'val_loss': loss.detach()}\n",
    "        \n",
    "    def validation_epoch_end(self, outputs):\n",
    "        batch_losses = [x['val_loss'] for x in outputs]\n",
    "        epoch_loss = torch.stack(batch_losses).mean()   # Combine losses\n",
    "        return {'val_loss': epoch_loss.item()}\n",
    "    \n",
    "    def epoch_end(self, epoch, result, num_epochs):\n",
    "        # Print result every 20th epoch\n",
    "        if (epoch+1) % 20 == 0 or epoch == num_epochs-1:\n",
    "            print(\"Epoch [{}], val_loss: {:.4f}\".format(epoch+1, result['val_loss']))"
   ]
  },
  {
   "cell_type": "code",
   "execution_count": 37,
   "id": "c67ce36a",
   "metadata": {},
   "outputs": [],
   "source": [
    "model = MultiLinearRegressionModel()\n"
   ]
  },
  {
   "cell_type": "code",
   "execution_count": 38,
   "id": "cc374939",
   "metadata": {},
   "outputs": [
    {
     "data": {
      "text/plain": [
       "[Parameter containing:\n",
       " tensor([[-0.0430, -0.0886, -0.0110,  0.2727, -0.3122,  0.2821,  0.0451,  0.2704,\n",
       "           0.3316],\n",
       "         [-0.2491, -0.0290, -0.1960,  0.1279,  0.3274,  0.0092,  0.1261,  0.0895,\n",
       "          -0.0972],\n",
       "         [-0.0748, -0.2856, -0.1956, -0.1114, -0.1257,  0.1291,  0.2225, -0.1383,\n",
       "          -0.2855],\n",
       "         [-0.2852,  0.2526, -0.1754,  0.1811,  0.1232, -0.1216,  0.2747, -0.2727,\n",
       "          -0.1902],\n",
       "         [-0.0031, -0.1987,  0.0701,  0.2711, -0.3185,  0.2949, -0.1723, -0.3250,\n",
       "          -0.2105],\n",
       "         [ 0.0732, -0.2897, -0.2410, -0.2752,  0.2098,  0.2242, -0.1297, -0.2158,\n",
       "          -0.0137],\n",
       "         [ 0.1047,  0.1601,  0.3116,  0.2805,  0.1446,  0.3002, -0.0855,  0.0382,\n",
       "           0.0656],\n",
       "         [-0.2517,  0.1672, -0.3279, -0.0808,  0.3235,  0.1812,  0.2313, -0.2811,\n",
       "          -0.0857],\n",
       "         [ 0.0989, -0.3000, -0.2110, -0.0973, -0.2034, -0.0136, -0.2981, -0.1896,\n",
       "           0.1947],\n",
       "         [-0.3193,  0.3244, -0.2823, -0.0327, -0.1143,  0.0335, -0.0593,  0.1361,\n",
       "           0.1697],\n",
       "         [ 0.2003, -0.0960,  0.3283, -0.3285,  0.3109,  0.2828,  0.1121,  0.3027,\n",
       "           0.0505],\n",
       "         [ 0.1410,  0.0700,  0.2381,  0.0546,  0.1416, -0.1112, -0.1955, -0.2144,\n",
       "           0.1416],\n",
       "         [ 0.2646, -0.1713, -0.3265,  0.1303,  0.1671, -0.1449,  0.1407,  0.0696,\n",
       "           0.3306],\n",
       "         [-0.1338,  0.0368,  0.2039,  0.0356,  0.3161,  0.0361,  0.0912,  0.0335,\n",
       "          -0.1636],\n",
       "         [ 0.3218, -0.2252,  0.1988, -0.1890,  0.0311, -0.0757,  0.2290,  0.0409,\n",
       "          -0.2277],\n",
       "         [ 0.0413, -0.0065, -0.1234,  0.2912, -0.2244,  0.2234, -0.2953, -0.1521,\n",
       "           0.2342],\n",
       "         [-0.1990,  0.3226, -0.3074,  0.2832,  0.2881, -0.1261, -0.1525, -0.0785,\n",
       "           0.1716],\n",
       "         [-0.2973, -0.1759,  0.2391, -0.3030, -0.2046,  0.0500, -0.0719, -0.1477,\n",
       "           0.1742],\n",
       "         [-0.1692, -0.0265, -0.2409,  0.2307, -0.2348,  0.2685,  0.3027, -0.0862,\n",
       "          -0.1952],\n",
       "         [ 0.0889,  0.3176,  0.0417, -0.0773, -0.2106, -0.2829, -0.2018,  0.0748,\n",
       "          -0.0558],\n",
       "         [ 0.1788, -0.3178,  0.2985, -0.1603,  0.2304, -0.3138,  0.0094, -0.2009,\n",
       "          -0.1921],\n",
       "         [-0.0026,  0.3100, -0.2930,  0.1860, -0.3227, -0.3020,  0.2392,  0.0424,\n",
       "           0.2080],\n",
       "         [ 0.0644, -0.1101,  0.1168,  0.1344,  0.1748,  0.2960, -0.0147, -0.1863,\n",
       "          -0.0878],\n",
       "         [-0.1620,  0.0578,  0.3084,  0.2598,  0.2558, -0.0283,  0.1755,  0.1976,\n",
       "          -0.0149],\n",
       "         [-0.3002, -0.2651,  0.3069,  0.0134, -0.2826, -0.0937, -0.1271,  0.0014,\n",
       "           0.2494],\n",
       "         [-0.3147, -0.1869,  0.3005,  0.1973,  0.1947,  0.0042,  0.2843,  0.1334,\n",
       "          -0.2558],\n",
       "         [ 0.0922, -0.3212, -0.1629, -0.1740,  0.2771, -0.1505, -0.3275, -0.3041,\n",
       "          -0.3103],\n",
       "         [-0.0387,  0.0831, -0.3191,  0.2624, -0.2172,  0.3075,  0.2947,  0.2700,\n",
       "          -0.2046],\n",
       "         [-0.1431,  0.2979, -0.1084,  0.1307,  0.2316,  0.0460,  0.2800,  0.1996,\n",
       "           0.1272],\n",
       "         [-0.1665, -0.1700,  0.0763,  0.1960, -0.1237, -0.0802,  0.1430,  0.2519,\n",
       "          -0.2917],\n",
       "         [ 0.1323, -0.2607, -0.2678,  0.0997,  0.0213,  0.0009,  0.1775,  0.1290,\n",
       "           0.1219],\n",
       "         [-0.3128,  0.1365,  0.2267,  0.1725, -0.0213,  0.2883, -0.1030, -0.1069,\n",
       "          -0.0022],\n",
       "         [-0.0221, -0.1373, -0.3203, -0.2047, -0.1694, -0.2301,  0.2750,  0.1030,\n",
       "          -0.2744],\n",
       "         [-0.0052,  0.1916, -0.3153,  0.2506,  0.3059,  0.1834,  0.1165,  0.3282,\n",
       "           0.3055],\n",
       "         [ 0.3112,  0.1711, -0.1298,  0.2437,  0.1648, -0.1345, -0.1473,  0.1495,\n",
       "           0.1251],\n",
       "         [ 0.0165,  0.2123,  0.1667,  0.2055,  0.0937,  0.1848,  0.0704, -0.2778,\n",
       "           0.1057]], requires_grad=True),\n",
       " Parameter containing:\n",
       " tensor([-0.2993, -0.0599,  0.2190, -0.0465,  0.2254, -0.2302, -0.3284,  0.1616,\n",
       "          0.2928, -0.1128,  0.2875,  0.0436, -0.1111, -0.3217, -0.1307, -0.0966,\n",
       "         -0.2782, -0.1322, -0.0463, -0.1665, -0.2727,  0.1993,  0.1114,  0.0390,\n",
       "         -0.1855, -0.0326,  0.2090, -0.1238,  0.1095,  0.0326, -0.1338, -0.1615,\n",
       "          0.2269,  0.1490,  0.0665,  0.0152], requires_grad=True),\n",
       " Parameter containing:\n",
       " tensor([[ 0.0561, -0.0352, -0.0995,  0.0268, -0.1185,  0.0622, -0.0750, -0.0431,\n",
       "          -0.0258, -0.1531,  0.0484,  0.1619,  0.0271, -0.0106, -0.0713,  0.0323,\n",
       "          -0.0820, -0.1523, -0.0769,  0.0420,  0.1647,  0.0383, -0.1083,  0.0274,\n",
       "           0.1466, -0.1555,  0.0113,  0.1423, -0.0737, -0.0460, -0.0313, -0.0586,\n",
       "           0.0894,  0.1651, -0.1293,  0.0855],\n",
       "         [-0.0608,  0.1381,  0.0823, -0.0011,  0.1221, -0.0429, -0.0945, -0.1155,\n",
       "           0.0913,  0.0667, -0.0348, -0.1532,  0.0881, -0.0331, -0.1532,  0.0232,\n",
       "          -0.0285,  0.0847,  0.0867, -0.1017, -0.0570,  0.0653, -0.0716,  0.0702,\n",
       "          -0.0720, -0.1580,  0.0430, -0.1602, -0.1467,  0.1328,  0.0675,  0.1288,\n",
       "          -0.1093,  0.0322, -0.1285,  0.0955],\n",
       "         [ 0.0538, -0.0669,  0.0909, -0.0501, -0.0233, -0.1255, -0.1135,  0.1547,\n",
       "           0.0629,  0.1611, -0.1078,  0.0693, -0.0057,  0.1213,  0.0242, -0.1642,\n",
       "          -0.0328, -0.1569,  0.0056,  0.1040,  0.1315,  0.1597, -0.0729, -0.0190,\n",
       "          -0.0423, -0.0348, -0.1351, -0.0632, -0.1171, -0.0033,  0.0392, -0.0807,\n",
       "          -0.0492,  0.0490,  0.0141, -0.0151],\n",
       "         [-0.0282, -0.0512,  0.0411,  0.1564,  0.1612,  0.0326, -0.0640,  0.1290,\n",
       "          -0.0406, -0.0827,  0.0586, -0.0072,  0.0307, -0.1351, -0.1488, -0.1608,\n",
       "           0.1319,  0.0778, -0.1198,  0.0334,  0.0416, -0.0113,  0.0079,  0.0874,\n",
       "          -0.0457, -0.0018,  0.0667,  0.0436,  0.0863,  0.0983,  0.1205, -0.1401,\n",
       "          -0.0319,  0.0326, -0.1249, -0.0117],\n",
       "         [ 0.1624, -0.1043,  0.0908,  0.1365,  0.0110,  0.0078,  0.0959, -0.0324,\n",
       "           0.0143,  0.1022,  0.1620, -0.1543, -0.0141, -0.0334, -0.1186, -0.0675,\n",
       "          -0.0537,  0.0378,  0.1228, -0.0554, -0.0468,  0.1305,  0.0321,  0.1381,\n",
       "           0.0892, -0.0153, -0.0925,  0.0409,  0.0683, -0.0252, -0.0008,  0.0788,\n",
       "           0.1429,  0.1098, -0.1076, -0.1401],\n",
       "         [-0.0902, -0.0477, -0.1032,  0.0434, -0.1494, -0.0204, -0.1281,  0.1413,\n",
       "          -0.1336,  0.0384, -0.0662,  0.0603, -0.0917, -0.1545, -0.1089,  0.1194,\n",
       "          -0.0629, -0.0899,  0.1416,  0.1615,  0.0082, -0.0791,  0.0132, -0.0460,\n",
       "          -0.1497,  0.1428, -0.1389, -0.0027,  0.0064,  0.1535, -0.1225, -0.0834,\n",
       "          -0.0520,  0.0272, -0.0622, -0.0638],\n",
       "         [-0.0784,  0.0304, -0.0882, -0.0692,  0.1184,  0.0562,  0.0593,  0.1470,\n",
       "           0.0099, -0.0761,  0.0586, -0.1117, -0.0966, -0.0638, -0.1258, -0.0308,\n",
       "          -0.0203,  0.0964,  0.0317, -0.0074, -0.0365, -0.1068,  0.0899, -0.1015,\n",
       "          -0.1238,  0.1141, -0.1111,  0.0684,  0.1017,  0.0382,  0.0358, -0.1480,\n",
       "           0.0939, -0.0209,  0.0568, -0.1002],\n",
       "         [-0.1421, -0.0164, -0.1648, -0.0369, -0.0469, -0.0526,  0.1515, -0.0341,\n",
       "           0.1046,  0.1319, -0.1546, -0.1179,  0.0560, -0.1447, -0.1375,  0.1158,\n",
       "           0.0888,  0.0918,  0.1586, -0.1074, -0.0062, -0.0144, -0.0720, -0.1416,\n",
       "           0.1337, -0.0795, -0.0615, -0.0358, -0.0469, -0.1331,  0.0533,  0.0920,\n",
       "          -0.1085, -0.1590, -0.1145,  0.1045],\n",
       "         [ 0.1253,  0.0531,  0.0560,  0.1101, -0.1207,  0.1219,  0.1642, -0.0470,\n",
       "          -0.0210, -0.0187, -0.1602, -0.0833,  0.0313,  0.0557, -0.1577, -0.1081,\n",
       "          -0.0958,  0.0514, -0.0126, -0.1144, -0.0528,  0.0845,  0.0886,  0.0196,\n",
       "          -0.0693, -0.1008,  0.1514, -0.1170, -0.1155,  0.0553,  0.0067,  0.1190,\n",
       "          -0.1506, -0.1085,  0.1200, -0.1148],\n",
       "         [ 0.1545, -0.1598, -0.1260,  0.0807, -0.1082, -0.1482,  0.1538,  0.0021,\n",
       "          -0.0386,  0.1247, -0.0026,  0.0437, -0.0876, -0.0092, -0.1333,  0.1114,\n",
       "          -0.1558, -0.1002, -0.0964,  0.0724, -0.0057, -0.0284, -0.0866, -0.1286,\n",
       "           0.0189, -0.0174, -0.1110, -0.1025, -0.1083, -0.1519,  0.1070,  0.0268,\n",
       "          -0.1376,  0.0088,  0.0577, -0.1577],\n",
       "         [ 0.0300, -0.0246, -0.1070,  0.1646,  0.1157, -0.0662,  0.0651,  0.0329,\n",
       "           0.0738,  0.0598,  0.0309, -0.0531,  0.1321,  0.0566, -0.0674, -0.1052,\n",
       "          -0.0623, -0.1444, -0.1318,  0.0778, -0.0413, -0.0950,  0.1228,  0.0743,\n",
       "           0.1663, -0.0131, -0.1545, -0.1320, -0.1302, -0.0232,  0.0315,  0.0938,\n",
       "           0.0606,  0.1554, -0.0040,  0.0616],\n",
       "         [ 0.0800,  0.0801,  0.0414, -0.0073,  0.0937,  0.0306,  0.0067,  0.0498,\n",
       "          -0.1578, -0.0633, -0.0815, -0.0204,  0.1638, -0.1107, -0.0146, -0.1024,\n",
       "           0.0685, -0.0531,  0.1113, -0.0258,  0.1545,  0.0724, -0.0146,  0.0644,\n",
       "           0.0494,  0.1497, -0.1426,  0.1413, -0.0268,  0.1074,  0.0609, -0.1138,\n",
       "           0.0016, -0.0524,  0.0587, -0.0140],\n",
       "         [ 0.0751,  0.0987, -0.1063, -0.0003, -0.0095, -0.1281,  0.0352, -0.1302,\n",
       "           0.1547, -0.0012,  0.1414,  0.1338,  0.1543, -0.0539,  0.1054,  0.1562,\n",
       "           0.0070, -0.1568, -0.1280, -0.0878, -0.1103, -0.0019, -0.0024, -0.0564,\n",
       "          -0.1568, -0.0632, -0.0879, -0.1257,  0.1150, -0.0487, -0.1574, -0.0281,\n",
       "           0.1097,  0.0235, -0.1607,  0.0890],\n",
       "         [-0.1654, -0.1521,  0.1495, -0.1013, -0.0525,  0.1501,  0.0856, -0.0544,\n",
       "          -0.0393,  0.0916,  0.0858, -0.0278,  0.0586,  0.1237, -0.1281, -0.0623,\n",
       "           0.0360, -0.0603, -0.0388, -0.1335, -0.0197,  0.0860,  0.0035,  0.1478,\n",
       "          -0.0238, -0.1116, -0.0672, -0.0092,  0.0457,  0.0459,  0.1509,  0.1246,\n",
       "           0.0682,  0.0994,  0.1125, -0.0062],\n",
       "         [ 0.1016, -0.0069, -0.0911,  0.1402, -0.0250,  0.0130, -0.0076, -0.0907,\n",
       "           0.0248, -0.1314, -0.0214,  0.0837,  0.0539,  0.1000,  0.0131, -0.0203,\n",
       "          -0.1355, -0.0161,  0.1381, -0.0345,  0.0680, -0.0375, -0.0850,  0.0675,\n",
       "           0.0631,  0.0448, -0.0379,  0.1582,  0.0843,  0.0287,  0.1480,  0.1664,\n",
       "          -0.0551,  0.0507,  0.0902,  0.0343],\n",
       "         [ 0.0499,  0.0789,  0.0417, -0.1367,  0.1063, -0.1027, -0.1219,  0.1564,\n",
       "          -0.0623,  0.1268,  0.0237,  0.1331, -0.0684, -0.1295, -0.1061,  0.1003,\n",
       "          -0.0565, -0.1538,  0.0450,  0.1360, -0.0384,  0.1083,  0.0631,  0.0589,\n",
       "           0.0349,  0.0545,  0.1230, -0.0867,  0.0009,  0.1411, -0.0158,  0.1019,\n",
       "          -0.1600, -0.0386,  0.1042, -0.1308],\n",
       "         [-0.1548, -0.1116, -0.0468,  0.1433, -0.1364,  0.1512, -0.1339, -0.0883,\n",
       "           0.0528,  0.0440, -0.0591, -0.1516, -0.1264, -0.0760, -0.1390,  0.0189,\n",
       "          -0.0215, -0.0167,  0.0210, -0.1388,  0.1326, -0.1636,  0.0505,  0.1227,\n",
       "           0.0784,  0.1535, -0.1153,  0.0725,  0.0467, -0.1366,  0.0957, -0.0203,\n",
       "          -0.1613,  0.1627, -0.1073,  0.1513],\n",
       "         [-0.1582, -0.1050, -0.0707, -0.0011, -0.1345,  0.0349, -0.0822, -0.0154,\n",
       "          -0.0865, -0.1360,  0.0535,  0.0960,  0.1343,  0.1568,  0.0362,  0.0907,\n",
       "           0.0293, -0.0770,  0.1053,  0.1197, -0.1059,  0.1089, -0.0003,  0.0812,\n",
       "           0.1322, -0.0907, -0.1200, -0.0295,  0.0631,  0.1627, -0.0604, -0.0621,\n",
       "          -0.1612, -0.0558, -0.0821,  0.1089]], requires_grad=True),\n",
       " Parameter containing:\n",
       " tensor([-0.0111, -0.0172, -0.0506, -0.0571,  0.1063, -0.0409, -0.0721, -0.0032,\n",
       "         -0.0160, -0.0431, -0.0700, -0.0321, -0.1434, -0.0428,  0.1231, -0.1497,\n",
       "          0.0767, -0.0310], requires_grad=True),\n",
       " Parameter containing:\n",
       " tensor([[ 0.0344, -0.0802,  0.2238, -0.2201, -0.1577, -0.1067, -0.1444, -0.0170,\n",
       "          -0.1862,  0.1504, -0.1037,  0.1956, -0.0101,  0.1624,  0.0912,  0.0810,\n",
       "           0.1581,  0.1237]], requires_grad=True),\n",
       " Parameter containing:\n",
       " tensor([0.1589], requires_grad=True)]"
      ]
     },
     "execution_count": 38,
     "metadata": {},
     "output_type": "execute_result"
    }
   ],
   "source": [
    "list(model.parameters())"
   ]
  },
  {
   "cell_type": "code",
   "execution_count": 39,
   "id": "1c8906d1",
   "metadata": {},
   "outputs": [],
   "source": [
    "def evaluate(model, val_loader):\n",
    "    outputs = [model.validation_step(batch) for batch in val_loader]\n",
    "    return model.validation_epoch_end(outputs)\n",
    "\n",
    "def fit(epochs, lr, model, train_loader, val_loader, opt_func = torch.optim.SGD):\n",
    "    history = []\n",
    "    optimizer = opt_func(model.parameters(), lr)\n",
    "    for epoch in range(epochs):\n",
    "        # Training Phase \n",
    "        for batch in train_loader:\n",
    "            loss = model.training_step(batch)\n",
    "            loss.backward()\n",
    "            optimizer.step()\n",
    "            optimizer.zero_grad()\n",
    "        # Validation phase\n",
    "        result = evaluate(model, val_loader)\n",
    "        model.epoch_end(epoch, result, epochs)\n",
    "        history.append(result)\n",
    "    return history"
   ]
  },
  {
   "cell_type": "code",
   "execution_count": 40,
   "id": "d8c986ec",
   "metadata": {},
   "outputs": [
    {
     "name": "stdout",
     "output_type": "stream",
     "text": [
      "{'val_loss': 84.14195251464844}\n"
     ]
    },
    {
     "name": "stderr",
     "output_type": "stream",
     "text": [
      "C:\\Users\\peter\\AppData\\Local\\Temp\\ipykernel_15040\\4006852788.py:29: UserWarning: Using a target size (torch.Size([9])) that is different to the input size (torch.Size([9, 1])). This will likely lead to incorrect results due to broadcasting. Please ensure they have the same size.\n",
      "  loss = F.l1_loss(input = out, target = targets, size_average = None, reduce = None, reduction = 'mean')\n",
      "C:\\Users\\peter\\AppData\\Local\\Temp\\ipykernel_15040\\4006852788.py:29: UserWarning: Using a target size (torch.Size([3])) that is different to the input size (torch.Size([3, 1])). This will likely lead to incorrect results due to broadcasting. Please ensure they have the same size.\n",
      "  loss = F.l1_loss(input = out, target = targets, size_average = None, reduce = None, reduction = 'mean')\n"
     ]
    }
   ],
   "source": [
    "result = evaluate(model, val_loader)\n",
    "print(result)"
   ]
  },
  {
   "cell_type": "code",
   "execution_count": 41,
   "id": "4c4a3ddc",
   "metadata": {},
   "outputs": [
    {
     "name": "stderr",
     "output_type": "stream",
     "text": [
      "C:\\Users\\peter\\AppData\\Local\\Temp\\ipykernel_15040\\4006852788.py:21: UserWarning: Using a target size (torch.Size([9])) that is different to the input size (torch.Size([9, 1])). This will likely lead to incorrect results due to broadcasting. Please ensure they have the same size.\n",
      "  loss = F.l1_loss(input = out, target = targets, size_average = None, reduce = None, reduction = 'mean')\n",
      "C:\\Users\\peter\\AppData\\Local\\Temp\\ipykernel_15040\\4006852788.py:21: UserWarning: Using a target size (torch.Size([7])) that is different to the input size (torch.Size([7, 1])). This will likely lead to incorrect results due to broadcasting. Please ensure they have the same size.\n",
      "  loss = F.l1_loss(input = out, target = targets, size_average = None, reduce = None, reduction = 'mean')\n",
      "C:\\Users\\peter\\AppData\\Local\\Temp\\ipykernel_15040\\4006852788.py:29: UserWarning: Using a target size (torch.Size([9])) that is different to the input size (torch.Size([9, 1])). This will likely lead to incorrect results due to broadcasting. Please ensure they have the same size.\n",
      "  loss = F.l1_loss(input = out, target = targets, size_average = None, reduce = None, reduction = 'mean')\n",
      "C:\\Users\\peter\\AppData\\Local\\Temp\\ipykernel_15040\\4006852788.py:29: UserWarning: Using a target size (torch.Size([3])) that is different to the input size (torch.Size([3, 1])). This will likely lead to incorrect results due to broadcasting. Please ensure they have the same size.\n",
      "  loss = F.l1_loss(input = out, target = targets, size_average = None, reduce = None, reduction = 'mean')\n"
     ]
    },
    {
     "name": "stdout",
     "output_type": "stream",
     "text": [
      "Epoch [20], val_loss: 33.1055\n",
      "Epoch [40], val_loss: 1.4514\n",
      "Epoch [60], val_loss: 1.4360\n",
      "Epoch [80], val_loss: 1.4295\n",
      "Epoch [100], val_loss: 1.4274\n",
      "Epoch [120], val_loss: 1.4271\n",
      "Epoch [140], val_loss: 1.4253\n",
      "Epoch [160], val_loss: 1.4245\n",
      "Epoch [180], val_loss: 1.4224\n",
      "Epoch [200], val_loss: 1.4218\n",
      "Epoch [220], val_loss: 1.4198\n",
      "Epoch [240], val_loss: 1.4195\n",
      "Epoch [260], val_loss: 1.4184\n",
      "Epoch [280], val_loss: 1.4166\n",
      "Epoch [300], val_loss: 1.4165\n",
      "Epoch [320], val_loss: 1.4153\n",
      "Epoch [340], val_loss: 1.4143\n",
      "Epoch [360], val_loss: 1.4135\n",
      "Epoch [380], val_loss: 1.4123\n",
      "Epoch [400], val_loss: 1.4117\n",
      "Epoch [420], val_loss: 1.4112\n",
      "Epoch [440], val_loss: 1.4106\n",
      "Epoch [460], val_loss: 1.4095\n",
      "Epoch [480], val_loss: 1.4086\n",
      "Epoch [500], val_loss: 1.4078\n",
      "Epoch [520], val_loss: 1.4078\n",
      "Epoch [540], val_loss: 1.4072\n",
      "Epoch [560], val_loss: 1.4064\n",
      "Epoch [580], val_loss: 1.4056\n",
      "Epoch [600], val_loss: 1.4041\n",
      "Epoch [620], val_loss: 1.4036\n",
      "Epoch [640], val_loss: 1.4032\n",
      "Epoch [660], val_loss: 1.4022\n",
      "Epoch [680], val_loss: 1.4024\n",
      "Epoch [700], val_loss: 1.4008\n",
      "Epoch [720], val_loss: 1.4007\n",
      "Epoch [740], val_loss: 1.3997\n",
      "Epoch [760], val_loss: 1.3989\n",
      "Epoch [780], val_loss: 1.3986\n",
      "Epoch [800], val_loss: 1.3975\n",
      "Epoch [820], val_loss: 1.3970\n",
      "Epoch [840], val_loss: 1.3968\n",
      "Epoch [860], val_loss: 1.3958\n",
      "Epoch [880], val_loss: 1.3953\n",
      "Epoch [900], val_loss: 1.3954\n",
      "Epoch [920], val_loss: 1.3945\n",
      "Epoch [940], val_loss: 1.3940\n",
      "Epoch [960], val_loss: 1.3928\n",
      "Epoch [980], val_loss: 1.3920\n",
      "Epoch [1000], val_loss: 1.3917\n"
     ]
    }
   ],
   "source": [
    "epochs = 1000\n",
    "lr = 1e-7\n",
    "history1 = fit(epochs, lr, model, train_loader, val_loader)"
   ]
  },
  {
   "cell_type": "code",
   "execution_count": 42,
   "id": "e18488a9",
   "metadata": {},
   "outputs": [],
   "source": [
    "def predict_single(input, target, model):\n",
    "    inputs = input.unsqueeze(0)\n",
    "    predictions = model(inputs)                \n",
    "    prediction = predictions[0].detach()\n",
    "    return target, prediction"
   ]
  },
  {
   "cell_type": "code",
   "execution_count": 43,
   "id": "603f4338",
   "metadata": {},
   "outputs": [
    {
     "data": {
      "text/plain": [
       "(tensor(86.8980), tensor([88.8368]))"
      ]
     },
     "execution_count": 43,
     "metadata": {},
     "output_type": "execute_result"
    }
   ],
   "source": [
    "input, target = val_ds[11]\n",
    "predict_single(input, target, model)"
   ]
  },
  {
   "cell_type": "code",
   "execution_count": 44,
   "id": "ab4dcbf9",
   "metadata": {},
   "outputs": [
    {
     "data": {
      "text/plain": [
       "(tensor(87.8590), tensor([89.6293]))"
      ]
     },
     "execution_count": 44,
     "metadata": {},
     "output_type": "execute_result"
    }
   ],
   "source": [
    "input, target = val_ds[50]\n",
    "predict_single(input, target, model)"
   ]
  },
  {
   "cell_type": "code",
   "execution_count": 45,
   "id": "d0bd0a20",
   "metadata": {},
   "outputs": [],
   "source": [
    "targets = []\n",
    "predictions = []\n",
    "for i in range(len(val_ds)):\n",
    "    input, target = val_ds[i]\n",
    "    target, prediction = predict_single(input, target, model)\n",
    "    targets.append(target)\n",
    "    predictions.append(prediction)\n"
   ]
  },
  {
   "cell_type": "code",
   "execution_count": 46,
   "id": "bbb1ef5d",
   "metadata": {
    "scrolled": true
   },
   "outputs": [
    {
     "data": {
      "text/plain": [
       "<matplotlib.collections.PathCollection at 0x27670e61870>"
      ]
     },
     "execution_count": 46,
     "metadata": {},
     "output_type": "execute_result"
    },
    {
     "data": {
      "image/png": "[encoded data removed]",
      "text/plain": [
       "<Figure size 2000x1000 with 1 Axes>"
      ]
     },
     "metadata": {},
     "output_type": "display_data"
    }
   ],
   "source": [
    "fig, ax = plt.subplots(figsize=(20, 10))\n",
    "\n",
    "ax.scatter(range(len(predictions)),targets)\n",
    "ax.scatter(range(len(predictions)), predictions)\n"
   ]
  },
  {
   "cell_type": "code",
   "execution_count": null,
   "id": "0bc3ce23",
   "metadata": {},
   "outputs": [],
   "source": []
  },
  {
   "cell_type": "code",
   "execution_count": null,
   "id": "9964388e",
   "metadata": {},
   "outputs": [],
   "source": []
  }
 ],
 "metadata": {
  "kernelspec": {
   "display_name": "Python 3.10.8 64-bit (microsoft store)",
   "language": "python",
   "name": "python3"
  },
  "language_info": {
   "codemirror_mode": {
    "name": "ipython",
    "version": 3
   },
   "file_extension": ".py",
   "mimetype": "text/x-python",
   "name": "python",
   "nbconvert_exporter": "python",
   "pygments_lexer": "ipython3",
   "version": "3.10.8"
  },
  "vscode": {
   "interpreter": {
    "hash": "a9f1f59101e07bffb7c2ecfaca1a3c7ffe3cd326ee75e914ab1b038684b38c5a"
   }
  }
 },
 "nbformat": 4,
 "nbformat_minor": 5
}
