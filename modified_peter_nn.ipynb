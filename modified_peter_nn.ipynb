{
 "cells": [
  {
   "cell_type": "code",
   "execution_count": 1,
   "id": "e2a19097",
   "metadata": {},
   "outputs": [],
   "source": [
    "import torch\n",
    "import torch.nn as nn\n",
    "import pandas as pd\n",
    "import numpy as np\n",
    "from dateutil.parser import parse\n",
    "import torch.nn.functional as F\n",
    "from torch.utils.data import DataLoader, random_split, TensorDataset\n",
    "import matplotlib.pyplot as plt"
   ]
  },
  {
   "cell_type": "code",
   "execution_count": 2,
   "id": "6a806793",
   "metadata": {},
   "outputs": [],
   "source": [
    "###TODO: expand to full data, figure out how to visualize the difference in compounds or just train multiple neural networks on each compound, fix the size error idk why thats happening"
   ]
  },
  {
   "cell_type": "code",
   "execution_count": null,
   "id": "7fcacfe7-8fe5-44df-a6d5-cf26d849058d",
   "metadata": {},
   "outputs": [],
   "source": []
  },
  {
   "cell_type": "code",
   "execution_count": 3,
   "id": "85b9face-adef-40de-8430-b3f147039a4c",
   "metadata": {},
   "outputs": [],
   "source": [
    "filenames = [\"LapAndWeather/LapWeather_Australian Grand Prix.csv\",\"LapAndWeather/LapWeather_Austrian Grand Prix.csv\",\"LapAndWeather/LapWeather_Azerbaijan Grand Prix.csv\",\"LapAndWeather/LapWeather_Bahrain Grand Prix.csv\",\"LapAndWeather/LapWeather_Belgian Grand Prix.csv\",\"LapAndWeather/LapWeather_Brazilian Grand Prix.csv\",\"LapAndWeather/LapWeather_British Grand Prix.csv\",\"LapAndWeather/LapWeather_Canadian Grand Prix.csv\", \"LapAndWeather/LapWeather_Chinese Grand Prix.csv\",\"LapAndWeather/LapWeather_French Grand Prix.csv\",\"LapAndWeather/LapWeather_German Grand Prix.csv\",\"LapAndWeather/LapWeather_Hungarian Grand Prix.csv\",\"LapAndWeather/LapWeather_Italian Grand Prix.csv\",\"LapAndWeather/LapWeather_Japanese Grand Prix.csv\",\"LapAndWeather/LapWeather_Mexican Grand Prix.csv\",\"LapAndWeather/LapWeather_Monaco Grand Prix.csv\",\"LapAndWeather/LapWeather_Russian Grand Prix.csv\",\"LapAndWeather/LapWeather_Singapore Grand Prix.csv\",\"LapAndWeather/LapWeather_Spanish Grand Prix.csv\",\"LapAndWeather/LapWeather_United States Grand Prix.csv\"]\n",
    "combined_csv = pd.concat([pd.read_csv(f) for f in filenames ])\n",
    "# print(combined_csv)\n",
    "combined_csv.to_csv( \"combined_csv.csv\", index=False, encoding='utf-8-sig')"
   ]
  },
  {
   "cell_type": "code",
   "execution_count": 4,
   "id": "6d63abe8",
   "metadata": {},
   "outputs": [
    {
     "name": "stdout",
     "output_type": "stream",
     "text": [
      "13743\n",
      "13743\n",
      "13743\n",
      "13633\n",
      "13633\n",
      "13552\n",
      "13552\n",
      "13429\n",
      "13429\n",
      "13417\n",
      "13401\n",
      "13401\n",
      "13388\n",
      "13364\n",
      "13196\n",
      "13064\n",
      "13064\n",
      "13064\n",
      "13064\n",
      "       LapTime  LapNumber   Compound  TyreLife        Team  AirTemp  Humidity  \\\n",
      "1       90.177          2  ULTRASOFT       4.0     Ferrari     24.2      36.3   \n",
      "2       89.610          3  ULTRASOFT       5.0     Ferrari     23.9      36.5   \n",
      "3       89.540          4  ULTRASOFT       6.0     Ferrari     23.9      36.3   \n",
      "4       89.481          5  ULTRASOFT       7.0     Ferrari     23.5      36.3   \n",
      "7       88.405          8  ULTRASOFT      10.0     Ferrari     23.8      35.6   \n",
      "...        ...        ...        ...       ...         ...      ...       ...   \n",
      "17253  100.578         63  ULTRASOFT      50.0  Toro Rosso     26.2      57.1   \n",
      "17254  100.566         64  ULTRASOFT      51.0  Toro Rosso     26.2      57.0   \n",
      "17255  100.552         65  ULTRASOFT      52.0  Toro Rosso     26.2      57.0   \n",
      "17256  100.830         66  ULTRASOFT      53.0  Toro Rosso     26.1      57.1   \n",
      "17257  103.413         67  ULTRASOFT      54.0  Toro Rosso     25.9      58.1   \n",
      "\n",
      "       Pressure  Rainfall  TrackTemp  WindSpeed  Track  \n",
      "1         996.9     False       38.2        3.8      1  \n",
      "2         997.1     False       36.7        4.3      1  \n",
      "3         997.1     False       36.8        2.9      1  \n",
      "4         997.2     False       36.4        2.5      1  \n",
      "7         997.0     False       37.5        2.9      1  \n",
      "...         ...       ...        ...        ...    ...  \n",
      "17253    1015.3     False       34.3        1.2     16  \n",
      "17254    1015.3     False       34.3        1.4     16  \n",
      "17255    1015.3     False       34.3        1.4     16  \n",
      "17256    1015.3     False       34.1        1.5     16  \n",
      "17257    1015.2     False       34.3        1.7     16  \n",
      "\n",
      "[13064 rows x 12 columns]\n",
      "torch.Size([13064, 1])\n",
      "[[ 2.   6.   4.  ... 38.2  3.8  1. ]\n",
      " [ 3.   6.   5.  ... 36.7  4.3  1. ]\n",
      " [ 4.   6.   6.  ... 36.8  2.9  1. ]\n",
      " ...\n",
      " [65.   6.  52.  ... 34.3  1.4 16. ]\n",
      " [66.   6.  53.  ... 34.1  1.5 16. ]\n",
      " [67.   6.  54.  ... 34.3  1.7 16. ]]\n",
      "[ 90.177  89.61   89.54  ... 100.552 100.83  103.413]\n"
     ]
    },
    {
     "name": "stderr",
     "output_type": "stream",
     "text": [
      "C:\\Users\\peter\\AppData\\Local\\Temp\\ipykernel_29868\\1073215378.py:29: UserWarning: Boolean Series key will be reindexed to match DataFrame index.\n",
      "  indexes = df.loc[df[\"Track\"]==i][((df[cols] < (Q1 - 1.5 * IQR)) |(df[cols] > (Q3 + 1.5 * IQR))).any(axis=1)].index\n",
      "C:\\Users\\peter\\AppData\\Local\\Temp\\ipykernel_29868\\1073215378.py:29: UserWarning: Boolean Series key will be reindexed to match DataFrame index.\n",
      "  indexes = df.loc[df[\"Track\"]==i][((df[cols] < (Q1 - 1.5 * IQR)) |(df[cols] > (Q3 + 1.5 * IQR))).any(axis=1)].index\n",
      "C:\\Users\\peter\\AppData\\Local\\Temp\\ipykernel_29868\\1073215378.py:29: UserWarning: Boolean Series key will be reindexed to match DataFrame index.\n",
      "  indexes = df.loc[df[\"Track\"]==i][((df[cols] < (Q1 - 1.5 * IQR)) |(df[cols] > (Q3 + 1.5 * IQR))).any(axis=1)].index\n",
      "C:\\Users\\peter\\AppData\\Local\\Temp\\ipykernel_29868\\1073215378.py:29: UserWarning: Boolean Series key will be reindexed to match DataFrame index.\n",
      "  indexes = df.loc[df[\"Track\"]==i][((df[cols] < (Q1 - 1.5 * IQR)) |(df[cols] > (Q3 + 1.5 * IQR))).any(axis=1)].index\n",
      "C:\\Users\\peter\\AppData\\Local\\Temp\\ipykernel_29868\\1073215378.py:29: UserWarning: Boolean Series key will be reindexed to match DataFrame index.\n",
      "  indexes = df.loc[df[\"Track\"]==i][((df[cols] < (Q1 - 1.5 * IQR)) |(df[cols] > (Q3 + 1.5 * IQR))).any(axis=1)].index\n",
      "C:\\Users\\peter\\AppData\\Local\\Temp\\ipykernel_29868\\1073215378.py:29: UserWarning: Boolean Series key will be reindexed to match DataFrame index.\n",
      "  indexes = df.loc[df[\"Track\"]==i][((df[cols] < (Q1 - 1.5 * IQR)) |(df[cols] > (Q3 + 1.5 * IQR))).any(axis=1)].index\n",
      "C:\\Users\\peter\\AppData\\Local\\Temp\\ipykernel_29868\\1073215378.py:29: UserWarning: Boolean Series key will be reindexed to match DataFrame index.\n",
      "  indexes = df.loc[df[\"Track\"]==i][((df[cols] < (Q1 - 1.5 * IQR)) |(df[cols] > (Q3 + 1.5 * IQR))).any(axis=1)].index\n",
      "C:\\Users\\peter\\AppData\\Local\\Temp\\ipykernel_29868\\1073215378.py:29: UserWarning: Boolean Series key will be reindexed to match DataFrame index.\n",
      "  indexes = df.loc[df[\"Track\"]==i][((df[cols] < (Q1 - 1.5 * IQR)) |(df[cols] > (Q3 + 1.5 * IQR))).any(axis=1)].index\n",
      "C:\\Users\\peter\\AppData\\Local\\Temp\\ipykernel_29868\\1073215378.py:29: UserWarning: Boolean Series key will be reindexed to match DataFrame index.\n",
      "  indexes = df.loc[df[\"Track\"]==i][((df[cols] < (Q1 - 1.5 * IQR)) |(df[cols] > (Q3 + 1.5 * IQR))).any(axis=1)].index\n",
      "C:\\Users\\peter\\AppData\\Local\\Temp\\ipykernel_29868\\1073215378.py:29: UserWarning: Boolean Series key will be reindexed to match DataFrame index.\n",
      "  indexes = df.loc[df[\"Track\"]==i][((df[cols] < (Q1 - 1.5 * IQR)) |(df[cols] > (Q3 + 1.5 * IQR))).any(axis=1)].index\n",
      "C:\\Users\\peter\\AppData\\Local\\Temp\\ipykernel_29868\\1073215378.py:29: UserWarning: Boolean Series key will be reindexed to match DataFrame index.\n",
      "  indexes = df.loc[df[\"Track\"]==i][((df[cols] < (Q1 - 1.5 * IQR)) |(df[cols] > (Q3 + 1.5 * IQR))).any(axis=1)].index\n",
      "C:\\Users\\peter\\AppData\\Local\\Temp\\ipykernel_29868\\1073215378.py:29: UserWarning: Boolean Series key will be reindexed to match DataFrame index.\n",
      "  indexes = df.loc[df[\"Track\"]==i][((df[cols] < (Q1 - 1.5 * IQR)) |(df[cols] > (Q3 + 1.5 * IQR))).any(axis=1)].index\n",
      "C:\\Users\\peter\\AppData\\Local\\Temp\\ipykernel_29868\\1073215378.py:29: UserWarning: Boolean Series key will be reindexed to match DataFrame index.\n",
      "  indexes = df.loc[df[\"Track\"]==i][((df[cols] < (Q1 - 1.5 * IQR)) |(df[cols] > (Q3 + 1.5 * IQR))).any(axis=1)].index\n",
      "C:\\Users\\peter\\AppData\\Local\\Temp\\ipykernel_29868\\1073215378.py:29: UserWarning: Boolean Series key will be reindexed to match DataFrame index.\n",
      "  indexes = df.loc[df[\"Track\"]==i][((df[cols] < (Q1 - 1.5 * IQR)) |(df[cols] > (Q3 + 1.5 * IQR))).any(axis=1)].index\n",
      "C:\\Users\\peter\\AppData\\Local\\Temp\\ipykernel_29868\\1073215378.py:29: UserWarning: Boolean Series key will be reindexed to match DataFrame index.\n",
      "  indexes = df.loc[df[\"Track\"]==i][((df[cols] < (Q1 - 1.5 * IQR)) |(df[cols] > (Q3 + 1.5 * IQR))).any(axis=1)].index\n",
      "C:\\Users\\peter\\AppData\\Local\\Temp\\ipykernel_29868\\1073215378.py:29: UserWarning: Boolean Series key will be reindexed to match DataFrame index.\n",
      "  indexes = df.loc[df[\"Track\"]==i][((df[cols] < (Q1 - 1.5 * IQR)) |(df[cols] > (Q3 + 1.5 * IQR))).any(axis=1)].index\n",
      "C:\\Users\\peter\\AppData\\Local\\Temp\\ipykernel_29868\\1073215378.py:29: UserWarning: Boolean Series key will be reindexed to match DataFrame index.\n",
      "  indexes = df.loc[df[\"Track\"]==i][((df[cols] < (Q1 - 1.5 * IQR)) |(df[cols] > (Q3 + 1.5 * IQR))).any(axis=1)].index\n",
      "C:\\Users\\peter\\AppData\\Local\\Temp\\ipykernel_29868\\1073215378.py:29: UserWarning: Boolean Series key will be reindexed to match DataFrame index.\n",
      "  indexes = df.loc[df[\"Track\"]==i][((df[cols] < (Q1 - 1.5 * IQR)) |(df[cols] > (Q3 + 1.5 * IQR))).any(axis=1)].index\n",
      "C:\\Users\\peter\\AppData\\Local\\Temp\\ipykernel_29868\\1073215378.py:29: UserWarning: Boolean Series key will be reindexed to match DataFrame index.\n",
      "  indexes = df.loc[df[\"Track\"]==i][((df[cols] < (Q1 - 1.5 * IQR)) |(df[cols] > (Q3 + 1.5 * IQR))).any(axis=1)].index\n"
     ]
    }
   ],
   "source": [
    "df = pd.read_csv('combined_csv.csv')\n",
    "df = df[df[\"IsAccurate\"]==True]\n",
    "df = df[df[\"TrackStatus\"]==1]\n",
    "df = df.drop(['Time','DriverNumber','LapStartDate','Stint', 'WindDirection','Unnamed: 0', 'PitOutTime', 'PitInTime', 'Sector1Time','Sector2Time','Sector3Time','Sector1SessionTime','Sector2SessionTime','Sector3SessionTime','SpeedI1','SpeedI2','SpeedST','IsPersonalBest','FreshTyre','SpeedFL','LapStartTime','Driver','TrackStatus','IsAccurate'], axis=1)\n",
    "df = df.dropna()\n",
    "\n",
    "dfOutput = df['LapTime']\n",
    "train_targets = dfOutput.to_numpy()\n",
    "\n",
    "for i in range(len(train_targets)):\n",
    "    train_targets[i] = train_targets[i].replace('0 days ', '')\n",
    "# print(train_targets)\n",
    "actual_train_targets = []\n",
    "for time in train_targets:\n",
    "    td = parse(time) - parse('00:00:00')\n",
    "    seconds = td.total_seconds()\n",
    "    actual_train_targets.append(seconds)\n",
    "# print(actual_train_targets)\n",
    "dfLapTime = pd.DataFrame(actual_train_targets)\n",
    "\n",
    "df['LapTime'] = dfLapTime\n",
    "df = df.dropna()\n",
    "cols = ['LapTime']\n",
    "for i in range(1,20):\n",
    "    print(len(df))\n",
    "    Q1 = df.loc[df[\"Track\"]==i][cols].quantile(0.25)\n",
    "    Q3 = df.loc[df[\"Track\"]==i][cols].quantile(0.75)\n",
    "    IQR = Q3-Q1\n",
    "    indexes = df.loc[df[\"Track\"]==i][((df[cols] < (Q1 - 1.5 * IQR)) |(df[cols] > (Q3 + 1.5 * IQR))).any(axis=1)].index\n",
    "    df.drop(indexes,inplace=True)\n",
    "    \n",
    "dfInput = df.drop(['LapTime'], axis=1)\n",
    "dfInput = dfInput.replace({'SUPERHARD':1, 'HARD':2, 'MEDIUM':3, 'SOFT':4,'SUPERSOFT': 5, 'ULTRASOFT': 6,'HYPERSOFT':7,\"INTERMEDIATE\":0,\"WET\":-1})\n",
    "dfInput = dfInput.replace({'Ferrari':1,'Mercedes':2,'Red Bull Racing':3, 'McLaren':4, 'Renault':5, 'Force India':6, 'Sauber':7, 'Williams':8, 'Toro Rosso':9, 'Haas F1 Team':10, 'Racing Point':6})\n",
    "train_inputs = dfInput.to_numpy()\n",
    "inputs_array = train_inputs.astype('float64')\n",
    "dfOutput = df['LapTime']\n",
    "\n",
    "print(df)\n",
    "targets_array = dfOutput.to_numpy()\n",
    "inputs = torch.Tensor(inputs_array)\n",
    "targets = torch.Tensor(targets_array)\n",
    "\n",
    "new_shape = (len(targets_array), 1)\n",
    "targets = targets.view(new_shape)\n",
    "print(targets.shape)\n",
    "\n",
    "print(inputs_array)\n",
    "print(targets_array)\n"
   ]
  },
  {
   "cell_type": "code",
   "execution_count": 5,
   "id": "03e8c443",
   "metadata": {},
   "outputs": [],
   "source": [
    "dataset = TensorDataset(inputs, targets)"
   ]
  },
  {
   "cell_type": "code",
   "execution_count": 6,
   "id": "4f1a0694",
   "metadata": {},
   "outputs": [],
   "source": [
    "val_percent = 0.2\n",
    "num_rows = len(dfInput.index)\n",
    "val_size = int(num_rows * val_percent)\n",
    "train_size = num_rows - val_size\n",
    "train_ds, val_ds = random_split(dataset, [train_size, val_size])"
   ]
  },
  {
   "cell_type": "code",
   "execution_count": 7,
   "id": "da61690d",
   "metadata": {},
   "outputs": [],
   "source": [
    "batch_size = 32\n",
    "train_loader = DataLoader(train_ds, batch_size, shuffle = True, num_workers = 0)\n",
    "val_loader = DataLoader(val_ds, batch_size, num_workers = 0)"
   ]
  },
  {
   "cell_type": "code",
   "execution_count": 8,
   "id": "fccaa518",
   "metadata": {},
   "outputs": [],
   "source": [
    "input_size = len(inputs[0])\n",
    "output_size = 1"
   ]
  },
  {
   "cell_type": "code",
   "execution_count": 9,
   "id": "a60896f0",
   "metadata": {},
   "outputs": [],
   "source": [
    "class MultiLinearRegressionModel(nn.Module):\n",
    "    def __init__(self):\n",
    "        super().__init__()\n",
    "        self.layers = nn.Sequential(\n",
    "            nn.Linear(11, 144),\n",
    "            nn.ReLU(),\n",
    "            nn.Linear(144,72),\n",
    "            nn.ReLU(),\n",
    "            nn.Linear(72,36),\n",
    "            nn.ReLU(),\n",
    "            nn.Linear(36,1)\n",
    "        )\n",
    "        \n",
    "    def forward(self, xb):\n",
    "        out = self.layers(xb)                       \n",
    "        return out\n",
    "    \n",
    "    def training_step(self, batch):\n",
    "        inputs, targets = batch \n",
    "        # Generate predictions\n",
    "        out = self(inputs)          \n",
    "        # Calcuate loss\n",
    "        mse_loss = nn.MSELoss()\n",
    "        # cross_entropy_loss = nn.CrossEntropyLoss()\n",
    "        # loss = cross_entropy_loss(out, targets)\n",
    "        loss = mse_loss(out, targets)  \n",
    "        return loss\n",
    "    \n",
    "    def validation_step(self, batch):\n",
    "        inputs, targets = batch\n",
    "        # Generate predictions\n",
    "        out = self(inputs)\n",
    "        # Calculate loss\n",
    "        mse_loss = nn.MSELoss()\n",
    "        loss = mse_loss(out, targets)    \n",
    "        return {'val_loss': loss.detach()}\n",
    "        \n",
    "    def validation_epoch_end(self, outputs):\n",
    "        batch_losses = [x['val_loss'] for x in outputs]\n",
    "        epoch_loss = torch.stack(batch_losses).mean()   # Combine losses\n",
    "        return {'val_loss': epoch_loss.item()}\n",
    "    \n",
    "    def epoch_end(self, epoch, result, num_epochs):\n",
    "        # Print result every 20th epoch\n",
    "        if (epoch+1) % 20 == 0 or epoch == num_epochs-1:\n",
    "            print(\"Epoch [{}], val_loss: {:.4f}\".format(epoch+1, result['val_loss']))"
   ]
  },
  {
   "cell_type": "code",
   "execution_count": 10,
   "id": "c67ce36a",
   "metadata": {},
   "outputs": [],
   "source": [
    "model = MultiLinearRegressionModel()"
   ]
  },
  {
   "cell_type": "code",
   "execution_count": 11,
   "id": "cc374939",
   "metadata": {},
   "outputs": [],
   "source": [
    "# list(model.parameters())"
   ]
  },
  {
   "cell_type": "code",
   "execution_count": 12,
   "id": "1c8906d1",
   "metadata": {},
   "outputs": [],
   "source": [
    "def evaluate(model, val_loader):\n",
    "    outputs = [model.validation_step(batch) for batch in val_loader]\n",
    "    return model.validation_epoch_end(outputs)\n",
    "\n",
    "def fit(epochs, lr, model, train_loader, val_loader, opt_func = torch.optim.SGD):\n",
    "    history = []\n",
    "    optimizer = opt_func(model.parameters(), lr)\n",
    "    for epoch in range(epochs):\n",
    "        # Training Phase \n",
    "        for batch in train_loader:\n",
    "            loss = model.training_step(batch)\n",
    "            loss.backward()\n",
    "            optimizer.step()\n",
    "            optimizer.zero_grad()\n",
    "        # Validation phase\n",
    "        result = evaluate(model, val_loader)\n",
    "        model.epoch_end(epoch, result, epochs)\n",
    "        history.append(result)\n",
    "    return history"
   ]
  },
  {
   "cell_type": "code",
   "execution_count": 13,
   "id": "d8c986ec",
   "metadata": {},
   "outputs": [
    {
     "name": "stdout",
     "output_type": "stream",
     "text": [
      "{'val_loss': 11866.6044921875}\n"
     ]
    }
   ],
   "source": [
    "result = evaluate(model, val_loader)\n",
    "print(result)"
   ]
  },
  {
   "cell_type": "code",
   "execution_count": 14,
   "id": "4c4a3ddc",
   "metadata": {},
   "outputs": [
    {
     "name": "stdout",
     "output_type": "stream",
     "text": [
      "Epoch [20], val_loss: 193.5840\n",
      "Epoch [40], val_loss: 186.9269\n",
      "Epoch [60], val_loss: 185.4116\n",
      "Epoch [80], val_loss: 195.1364\n",
      "Epoch [100], val_loss: 186.0624\n",
      "Epoch [120], val_loss: 175.5042\n",
      "Epoch [140], val_loss: 200.3926\n",
      "Epoch [160], val_loss: 168.5218\n",
      "Epoch [180], val_loss: 168.2060\n",
      "Epoch [200], val_loss: 163.9391\n",
      "Epoch [220], val_loss: 159.3147\n",
      "Epoch [240], val_loss: 170.5934\n",
      "Epoch [260], val_loss: 151.8287\n",
      "Epoch [280], val_loss: 158.7689\n",
      "Epoch [300], val_loss: 152.8521\n",
      "Epoch [320], val_loss: 144.7467\n",
      "Epoch [340], val_loss: 145.4329\n",
      "Epoch [360], val_loss: 136.4234\n",
      "Epoch [380], val_loss: 133.7011\n",
      "Epoch [400], val_loss: 126.9849\n",
      "Epoch [420], val_loss: 123.8947\n",
      "Epoch [440], val_loss: 113.3394\n",
      "Epoch [460], val_loss: 107.1473\n",
      "Epoch [480], val_loss: 127.7545\n",
      "Epoch [500], val_loss: 97.6220\n",
      "Epoch [520], val_loss: 100.5464\n",
      "Epoch [540], val_loss: 94.5527\n",
      "Epoch [560], val_loss: 97.4124\n",
      "Epoch [580], val_loss: 93.5417\n",
      "Epoch [600], val_loss: 94.1904\n",
      "Epoch [620], val_loss: 91.2679\n",
      "Epoch [640], val_loss: 91.2313\n",
      "Epoch [660], val_loss: 89.0522\n",
      "Epoch [680], val_loss: 87.8326\n",
      "Epoch [700], val_loss: 87.6274\n",
      "Epoch [720], val_loss: 89.8997\n",
      "Epoch [740], val_loss: 87.7232\n",
      "Epoch [760], val_loss: 85.4266\n",
      "Epoch [780], val_loss: 83.2265\n",
      "Epoch [800], val_loss: 86.6430\n",
      "Epoch [820], val_loss: 82.3869\n",
      "Epoch [840], val_loss: 83.6552\n",
      "Epoch [860], val_loss: 93.6644\n",
      "Epoch [880], val_loss: 80.0139\n",
      "Epoch [900], val_loss: 81.8000\n",
      "Epoch [920], val_loss: 84.0998\n",
      "Epoch [940], val_loss: 77.8217\n",
      "Epoch [960], val_loss: 78.6973\n",
      "Epoch [980], val_loss: 74.3636\n",
      "Epoch [1000], val_loss: 83.6924\n",
      "Epoch [1020], val_loss: 84.2829\n",
      "Epoch [1040], val_loss: 75.3113\n",
      "Epoch [1060], val_loss: 72.8395\n",
      "Epoch [1080], val_loss: 83.9808\n",
      "Epoch [1100], val_loss: 80.1829\n",
      "Epoch [1120], val_loss: 71.1741\n",
      "Epoch [1140], val_loss: 74.2568\n",
      "Epoch [1160], val_loss: 73.9266\n",
      "Epoch [1180], val_loss: 70.1596\n",
      "Epoch [1200], val_loss: 74.0208\n",
      "Epoch [1220], val_loss: 70.5106\n",
      "Epoch [1240], val_loss: 88.1266\n",
      "Epoch [1260], val_loss: 73.7260\n",
      "Epoch [1280], val_loss: 71.7218\n",
      "Epoch [1300], val_loss: 69.0154\n",
      "Epoch [1320], val_loss: 75.8243\n",
      "Epoch [1340], val_loss: 71.6601\n",
      "Epoch [1360], val_loss: 66.9887\n",
      "Epoch [1380], val_loss: 70.2995\n",
      "Epoch [1400], val_loss: 68.2554\n",
      "Epoch [1420], val_loss: 66.5914\n",
      "Epoch [1440], val_loss: 67.9145\n",
      "Epoch [1460], val_loss: 67.2278\n",
      "Epoch [1480], val_loss: 77.1996\n",
      "Epoch [1500], val_loss: 68.6678\n",
      "Epoch [1520], val_loss: 66.2508\n",
      "Epoch [1540], val_loss: 66.9802\n",
      "Epoch [1560], val_loss: 63.5082\n",
      "Epoch [1580], val_loss: 65.1914\n",
      "Epoch [1600], val_loss: 64.0643\n",
      "Epoch [1620], val_loss: 69.6755\n",
      "Epoch [1640], val_loss: 64.0888\n",
      "Epoch [1660], val_loss: 70.6203\n",
      "Epoch [1680], val_loss: 62.9704\n",
      "Epoch [1700], val_loss: 79.1454\n",
      "Epoch [1720], val_loss: 62.5833\n",
      "Epoch [1740], val_loss: 63.4060\n",
      "Epoch [1760], val_loss: 63.4461\n",
      "Epoch [1780], val_loss: 74.4649\n",
      "Epoch [1800], val_loss: 66.6107\n",
      "Epoch [1820], val_loss: 74.8447\n",
      "Epoch [1840], val_loss: 63.4621\n",
      "Epoch [1860], val_loss: 61.7616\n",
      "Epoch [1880], val_loss: 63.3769\n",
      "Epoch [1900], val_loss: 65.9644\n",
      "Epoch [1920], val_loss: 61.7457\n",
      "Epoch [1940], val_loss: 71.2114\n",
      "Epoch [1960], val_loss: 59.9191\n",
      "Epoch [1980], val_loss: 75.6673\n",
      "Epoch [2000], val_loss: 62.6036\n",
      "Epoch [2020], val_loss: 63.3314\n",
      "Epoch [2040], val_loss: 79.1756\n",
      "Epoch [2060], val_loss: 61.1634\n",
      "Epoch [2080], val_loss: 60.7024\n",
      "Epoch [2100], val_loss: 58.7845\n",
      "Epoch [2120], val_loss: 64.9905\n",
      "Epoch [2140], val_loss: 64.0463\n",
      "Epoch [2160], val_loss: 63.0867\n",
      "Epoch [2180], val_loss: 74.6346\n",
      "Epoch [2200], val_loss: 59.3638\n",
      "Epoch [2220], val_loss: 61.7001\n",
      "Epoch [2240], val_loss: 59.0867\n",
      "Epoch [2260], val_loss: 60.1386\n",
      "Epoch [2280], val_loss: 60.9320\n",
      "Epoch [2300], val_loss: 59.2088\n",
      "Epoch [2320], val_loss: 63.4536\n",
      "Epoch [2340], val_loss: 68.3790\n",
      "Epoch [2360], val_loss: 58.6777\n",
      "Epoch [2380], val_loss: 73.0047\n",
      "Epoch [2400], val_loss: 64.5053\n",
      "Epoch [2420], val_loss: 79.0444\n",
      "Epoch [2440], val_loss: 65.0375\n",
      "Epoch [2460], val_loss: 62.6116\n",
      "Epoch [2480], val_loss: 58.1834\n",
      "Epoch [2500], val_loss: 59.5478\n",
      "Epoch [2520], val_loss: 81.3078\n",
      "Epoch [2540], val_loss: 76.8712\n",
      "Epoch [2560], val_loss: 62.6112\n",
      "Epoch [2580], val_loss: 59.7336\n",
      "Epoch [2600], val_loss: 56.0955\n",
      "Epoch [2620], val_loss: 69.6199\n",
      "Epoch [2640], val_loss: 60.2048\n",
      "Epoch [2660], val_loss: 61.8061\n",
      "Epoch [2680], val_loss: 66.5159\n",
      "Epoch [2700], val_loss: 63.6785\n",
      "Epoch [2720], val_loss: 55.7688\n",
      "Epoch [2740], val_loss: 61.5682\n",
      "Epoch [2760], val_loss: 76.6766\n",
      "Epoch [2780], val_loss: 59.5027\n",
      "Epoch [2800], val_loss: 59.3029\n",
      "Epoch [2820], val_loss: 54.0766\n",
      "Epoch [2840], val_loss: 61.2100\n",
      "Epoch [2860], val_loss: 57.8793\n",
      "Epoch [2880], val_loss: 56.6608\n",
      "Epoch [2900], val_loss: 59.8138\n",
      "Epoch [2920], val_loss: 56.7761\n",
      "Epoch [2940], val_loss: 57.0921\n",
      "Epoch [2960], val_loss: 57.4689\n",
      "Epoch [2980], val_loss: 55.6491\n",
      "Epoch [3000], val_loss: 72.4083\n"
     ]
    }
   ],
   "source": [
    "epochs = 3000\n",
    "lr = 1e-6\n",
    "history1 = fit(epochs, lr, model, train_loader, val_loader)"
   ]
  },
  {
   "cell_type": "code",
   "execution_count": 15,
   "id": "e18488a9",
   "metadata": {},
   "outputs": [],
   "source": [
    "def predict_single(input, target, model):\n",
    "    inputs = input.unsqueeze(0)\n",
    "    predictions = model(inputs)                \n",
    "    prediction = predictions[0].detach()\n",
    "    return target, prediction"
   ]
  },
  {
   "cell_type": "code",
   "execution_count": 16,
   "id": "603f4338",
   "metadata": {},
   "outputs": [
    {
     "data": {
      "text/plain": [
       "(tensor([98.5980]), tensor([101.4429]))"
      ]
     },
     "execution_count": 16,
     "metadata": {},
     "output_type": "execute_result"
    }
   ],
   "source": [
    "input, target = val_ds[12]\n",
    "predict_single(input, target, model)"
   ]
  },
  {
   "cell_type": "code",
   "execution_count": 17,
   "id": "ab4dcbf9",
   "metadata": {},
   "outputs": [
    {
     "data": {
      "text/plain": [
       "(tensor([94.7750]), tensor([80.1988]))"
      ]
     },
     "execution_count": 17,
     "metadata": {},
     "output_type": "execute_result"
    }
   ],
   "source": [
    "input, target = val_ds[50]\n",
    "predict_single(input, target, model)"
   ]
  },
  {
   "cell_type": "code",
   "execution_count": 18,
   "id": "bed00bcf-8db3-471c-b4a6-116730336d74",
   "metadata": {},
   "outputs": [],
   "source": [
    "def get_accuracy(predict,actual):\n",
    "        predict = predict.detach().numpy()\n",
    "        actual = actual.numpy()\n",
    "\n",
    "        count = 0\n",
    "\n",
    "        for i in range(len(actual)):\n",
    "            if predict[i] >= actual[i]*.9 and predict[i] <= actual[i]*1.1:\n",
    "                count+=1\n",
    "        return count/len(predict)*100\n"
   ]
  },
  {
   "cell_type": "code",
   "execution_count": 19,
   "id": "d0bd0a20",
   "metadata": {},
   "outputs": [],
   "source": [
    "targets = []\n",
    "predictions = []\n",
    "for i in range(len(val_ds)):\n",
    "    input, target = val_ds[i]\n",
    "    target, prediction = predict_single(input, target, model)\n",
    "    # np.append(targets,target)\n",
    "    targets.append(target)\n",
    "    predictions.append(prediction)\n",
    "    # np.append(predictions,prediction)\n",
    "\n",
    "# print(len(predictions))\n",
    "# print(targets[0])\n",
    "accuracy = []\n",
    "for j in range(len(predictions)-1):\n",
    "    accuracy.append(get_accuracy(predictions[j],targets[j]))"
   ]
  },
  {
   "cell_type": "code",
   "execution_count": 20,
   "id": "0bc3ce23",
   "metadata": {},
   "outputs": [
    {
     "name": "stdout",
     "output_type": "stream",
     "text": [
      "Within 10% of actual lap time:\n",
      "78.78207583301418\n"
     ]
    }
   ],
   "source": [
    "print(\"Within 10% of actual lap time:\")\n",
    "print(np.sum(accuracy)/len(accuracy))"
   ]
  },
  {
   "cell_type": "code",
   "execution_count": 21,
   "id": "bbb1ef5d",
   "metadata": {
    "scrolled": true
   },
   "outputs": [],
   "source": [
    "# fig, ax = plt.subplots(figsize=(20, 10))\n",
    "\n",
    "# ax.scatter(range(len(predictions)),targets)\n",
    "# ax.scatter(range(len(predictions)), predictions)\n"
   ]
  },
  {
   "cell_type": "code",
   "execution_count": null,
   "id": "9964388e",
   "metadata": {},
   "outputs": [],
   "source": []
  }
 ],
 "metadata": {
  "kernelspec": {
   "display_name": "Python 3 (ipykernel)",
   "language": "python",
   "name": "python3"
  },
  "language_info": {
   "codemirror_mode": {
    "name": "ipython",
    "version": 3
   },
   "file_extension": ".py",
   "mimetype": "text/x-python",
   "name": "python",
   "nbconvert_exporter": "python",
   "pygments_lexer": "ipython3",
   "version": "3.10.8"
  },
  "vscode": {
   "interpreter": {
    "hash": "a9f1f59101e07bffb7c2ecfaca1a3c7ffe3cd326ee75e914ab1b038684b38c5a"
   }
  }
 },
 "nbformat": 4,
 "nbformat_minor": 5
}
